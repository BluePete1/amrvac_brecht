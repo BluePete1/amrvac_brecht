{
 "cells": [
  {
   "cell_type": "code",
   "execution_count": 55,
   "metadata": {},
   "outputs": [
    {
     "name": "stdout",
     "output_type": "stream",
     "text": [
      "4.0.1\n"
     ]
    }
   ],
   "source": [
    "import yt\n",
    "import numpy as np\n",
    "import matplotlib.pyplot as plt\n",
    "print(yt.__version__)"
   ]
  },
  {
   "cell_type": "code",
   "execution_count": 63,
   "metadata": {},
   "outputs": [
    {
     "name": "stderr",
     "output_type": "stream",
     "text": [
      "yt : [INFO     ] 2022-05-28 22:56:18,335 Parameters: current_time              = 0.0\n",
      "yt : [INFO     ] 2022-05-28 22:56:18,339 Parameters: domain_dimensions         = [60 60  1]\n",
      "yt : [INFO     ] 2022-05-28 22:56:18,341 Parameters: domain_left_edge          = [0. 0. 0.]\n",
      "yt : [INFO     ] 2022-05-28 22:56:18,342 Parameters: domain_right_edge         = [5. 5. 1.]\n",
      "yt : [INFO     ] 2022-05-28 22:56:18,343 Parameters: cosmological_simulation   = 0\n"
     ]
    }
   ],
   "source": [
    "ds = yt.load(\"nonlin_adv2_0000.dat\", unit_system=\"code\")"
   ]
  },
  {
   "cell_type": "code",
   "execution_count": 64,
   "metadata": {},
   "outputs": [
    {
     "name": "stderr",
     "output_type": "stream",
     "text": [
      "yt : [WARNING  ] 2022-05-28 22:56:19,637 e not found and no parfile passed, can not set thermal_pressure.\n",
      "yt : [INFO     ] 2022-05-28 22:56:20,284 xlim = 0.000000 5.000000\n",
      "yt : [INFO     ] 2022-05-28 22:56:20,286 ylim = 0.000000 5.000000\n",
      "yt : [INFO     ] 2022-05-28 22:56:20,288 xlim = 0.000000 5.000000\n",
      "yt : [INFO     ] 2022-05-28 22:56:20,289 ylim = 0.000000 5.000000\n",
      "yt : [INFO     ] 2022-05-28 22:56:20,292 Making a fixed resolution buffer of (('amrvac', 'u')) 800 by 800\n"
     ]
    },
    {
     "data": {
      "text/html": [
       "<img style=\"max-width:100%;max-height:100%;\" src=\"data:image/png;base64,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\"><br>"
      ],
      "text/plain": [
       "<yt.visualization.plot_window.AxisAlignedSlicePlot at 0x154eb610>"
      ]
     },
     "metadata": {},
     "output_type": "display_data"
    }
   ],
   "source": [
    "#ds.covering_grid() #Data in matrix uit dat file halen\n",
    "p=yt.plot_2d(ds,\"u\")\n",
    "#p.annotate_cell_edges()\n",
    "#p.annotate_grids()\n",
    "p.show()"
   ]
  },
  {
   "cell_type": "code",
   "execution_count": 8,
   "metadata": {},
   "outputs": [
    {
     "name": "stderr",
     "output_type": "stream",
     "text": [
      "yt : [INFO     ] 2022-05-28 21:44:48,035 Parameters: current_time              = 0.0\n",
      "yt : [INFO     ] 2022-05-28 21:44:48,036 Parameters: domain_dimensions         = [60 32  1]\n",
      "yt : [INFO     ] 2022-05-28 21:44:48,038 Parameters: domain_left_edge          = [0. 0. 0.]\n",
      "yt : [INFO     ] 2022-05-28 21:44:48,041 Parameters: domain_right_edge         = [5. 5. 1.]\n",
      "yt : [INFO     ] 2022-05-28 21:44:48,043 Parameters: cosmological_simulation   = 0\n",
      "yt : [INFO     ] 2022-05-28 21:44:48,141 Parameters: current_time              = 0.1\n",
      "yt : [INFO     ] 2022-05-28 21:44:48,143 Parameters: domain_dimensions         = [60 32  1]\n",
      "yt : [INFO     ] 2022-05-28 21:44:48,144 Parameters: domain_left_edge          = [0. 0. 0.]\n",
      "yt : [INFO     ] 2022-05-28 21:44:48,146 Parameters: domain_right_edge         = [5. 5. 1.]\n",
      "yt : [INFO     ] 2022-05-28 21:44:48,148 Parameters: cosmological_simulation   = 0\n",
      "yt : [WARNING  ] 2022-05-28 21:44:48,191 e not found and no parfile passed, can not set thermal_pressure.\n"
     ]
    },
    {
     "ename": "YTBooleanObjectsWrongDataset",
     "evalue": "Boolean data objects must share a common dataset object.",
     "output_type": "error",
     "traceback": [
      "\u001b[1;31m---------------------------------------------------------------------------\u001b[0m",
      "\u001b[1;31mYTBooleanObjectsWrongDataset\u001b[0m              Traceback (most recent call last)",
      "\u001b[1;32m<ipython-input-8-c728874c91aa>\u001b[0m in \u001b[0;36m<module>\u001b[1;34m\u001b[0m\n\u001b[0;32m      5\u001b[0m \u001b[0mweight\u001b[0m \u001b[1;33m=\u001b[0m \u001b[1;33m(\u001b[0m\u001b[1;34m\"u\"\u001b[0m\u001b[1;33m)\u001b[0m  \u001b[1;31m# The weight for the average\u001b[0m\u001b[1;33m\u001b[0m\u001b[1;33m\u001b[0m\u001b[0m\n\u001b[0;32m      6\u001b[0m \u001b[1;33m\u001b[0m\u001b[0m\n\u001b[1;32m----> 7\u001b[1;33m \u001b[0mad\u001b[0m \u001b[1;33m=\u001b[0m \u001b[0mds1\u001b[0m\u001b[1;33m.\u001b[0m\u001b[0mall_data\u001b[0m\u001b[1;33m(\u001b[0m\u001b[1;33m)\u001b[0m\u001b[1;33m-\u001b[0m\u001b[0mds2\u001b[0m\u001b[1;33m.\u001b[0m\u001b[0mall_data\u001b[0m\u001b[1;33m(\u001b[0m\u001b[1;33m)\u001b[0m  \u001b[1;31m# This is a region describing the entire box,\u001b[0m\u001b[1;33m\u001b[0m\u001b[1;33m\u001b[0m\u001b[0m\n\u001b[0m\u001b[0;32m      8\u001b[0m \u001b[1;31m# but note it doesn't read anything in yet!\u001b[0m\u001b[1;33m\u001b[0m\u001b[1;33m\u001b[0m\u001b[1;33m\u001b[0m\u001b[0m\n\u001b[0;32m      9\u001b[0m \u001b[1;33m\u001b[0m\u001b[0m\n",
      "\u001b[1;32mc:\\Users\\gebruiker\\AppData\\Local\\Programs\\Python\\Python38-32\\lib\\site-packages\\yt\\data_objects\\selection_objects\\data_selection_objects.py\u001b[0m in \u001b[0;36m__sub__\u001b[1;34m(self, other)\u001b[0m\n\u001b[0;32m    327\u001b[0m             \u001b[1;32mraise\u001b[0m \u001b[0mYTBooleanObjectError\u001b[0m\u001b[1;33m(\u001b[0m\u001b[0mother\u001b[0m\u001b[1;33m)\u001b[0m\u001b[1;33m\u001b[0m\u001b[1;33m\u001b[0m\u001b[0m\n\u001b[0;32m    328\u001b[0m         \u001b[1;32mif\u001b[0m \u001b[0mself\u001b[0m\u001b[1;33m.\u001b[0m\u001b[0mds\u001b[0m \u001b[1;32mis\u001b[0m \u001b[1;32mnot\u001b[0m \u001b[0mother\u001b[0m\u001b[1;33m.\u001b[0m\u001b[0mds\u001b[0m\u001b[1;33m:\u001b[0m\u001b[1;33m\u001b[0m\u001b[1;33m\u001b[0m\u001b[0m\n\u001b[1;32m--> 329\u001b[1;33m             \u001b[1;32mraise\u001b[0m \u001b[0mYTBooleanObjectsWrongDataset\u001b[0m\u001b[1;33m(\u001b[0m\u001b[1;33m)\u001b[0m\u001b[1;33m\u001b[0m\u001b[1;33m\u001b[0m\u001b[0m\n\u001b[0m\u001b[0;32m    330\u001b[0m         from yt.data_objects.selection_objects.boolean_operations import (\n\u001b[0;32m    331\u001b[0m             \u001b[0mYTBooleanContainer\u001b[0m\u001b[1;33m,\u001b[0m\u001b[1;33m\u001b[0m\u001b[1;33m\u001b[0m\u001b[0m\n",
      "\u001b[1;31mYTBooleanObjectsWrongDataset\u001b[0m: Boolean data objects must share a common dataset object."
     ]
    }
   ],
   "source": [
    "ds1 = yt.load(\"nonlin_adv_0000.dat\", unit_system=\"code\")\n",
    "ds2 = yt.load(\"nonlin_adv_0001.dat\", unit_system=\"code\")\n",
    "\n",
    "field = (\"u\")  # The field to average\n",
    "weight = (\"u\")  # The weight for the average\n",
    "\n",
    "ad = ds1.all_data()-ds2.all_data()  # This is a region describing the entire box,\n",
    "# but note it doesn't read anything in yet!\n",
    "\n",
    "# We now use our 'quantities' call to get the average quantity\n",
    "average_value = ad.quantities.weighted_average_quantity(field, weight)\n",
    "\n",
    "print(\"Average %s (weighted by %s) is %0.3e %s\" % (field, weight, average_value, average_value.units))\n",
    "\n",
    "#print(\n",
    "#    \"Average %s (weighted by %s) is %0.3e %s\"\n",
    "#    % (field[1], weight[1], average_value, average_value.units)\n",
    "#)"
   ]
  },
  {
   "cell_type": "code",
   "execution_count": 65,
   "metadata": {},
   "outputs": [
    {
     "name": "stderr",
     "output_type": "stream",
     "text": [
      "yt : [INFO     ] 2022-05-28 22:57:38,419 Parameters: current_time              = 0.0\n",
      "yt : [INFO     ] 2022-05-28 22:57:38,421 Parameters: domain_dimensions         = [60 60  1]\n",
      "yt : [INFO     ] 2022-05-28 22:57:38,423 Parameters: domain_left_edge          = [0. 0. 0.]\n",
      "yt : [INFO     ] 2022-05-28 22:57:38,425 Parameters: domain_right_edge         = [5. 5. 1.]\n",
      "yt : [INFO     ] 2022-05-28 22:57:38,428 Parameters: cosmological_simulation   = 0\n",
      "yt : [INFO     ] 2022-05-28 22:57:38,527 Parameters: current_time              = 0.1\n",
      "yt : [INFO     ] 2022-05-28 22:57:38,528 Parameters: domain_dimensions         = [60 60  1]\n",
      "yt : [INFO     ] 2022-05-28 22:57:38,530 Parameters: domain_left_edge          = [0. 0. 0.]\n",
      "yt : [INFO     ] 2022-05-28 22:57:38,532 Parameters: domain_right_edge         = [5. 5. 1.]\n",
      "yt : [INFO     ] 2022-05-28 22:57:38,535 Parameters: cosmological_simulation   = 0\n",
      "yt : [WARNING  ] 2022-05-28 22:57:38,569 e not found and no parfile passed, can not set thermal_pressure.\n"
     ]
    }
   ],
   "source": [
    "ds1 = yt.load(\"nonlin_adv2_0000.dat\", unit_system=\"code\")\n",
    "ds2 = yt.load(\"nonlin_adv2_0001.dat\", unit_system=\"code\")\n",
    "\n",
    "level = 0\n",
    "rawdata1 = ds1.covering_grid(level, left_edge=ds1.domain_left_edge, \n",
    "                          dims=ds1.domain_dimensions * ds1.refine_by**level)['u']\n",
    "rawdata2 = ds2.covering_grid(level, left_edge=ds.domain_left_edge, \n",
    "                          dims=ds2.domain_dimensions * ds2.refine_by**level)['u']"
   ]
  },
  {
   "cell_type": "code",
   "execution_count": 69,
   "metadata": {},
   "outputs": [
    {
     "name": "stdout",
     "output_type": "stream",
     "text": [
      "[[10. 10. 10. ... 10. 10. 10.]\n",
      " [10. 10. 10. ... 10. 10. 10.]\n",
      " [10. 10. 10. ... 10. 10. 10.]\n",
      " ...\n",
      " [10. 10. 10. ... 10. 10. 10.]\n",
      " [10. 10. 10. ... 10. 10. 10.]\n",
      " [10. 10. 10. ... 10. 10. 10.]]\n",
      "[600. 600. 600. 600. 600. 600. 600. 600. 600. 600. 600. 600. 600. 600.\n",
      " 600. 600. 600. 600. 600. 600. 600. 600. 600. 600. 486. 486. 486. 486.\n",
      " 486. 486. 486. 486. 486. 486. 486. 486. 600. 600. 600. 600. 600. 600.\n",
      " 600. 600. 600. 600. 600. 600. 600. 600. 600. 600. 600. 600. 600. 600.\n",
      " 600. 600. 600. 600.]\n",
      "34632.0\n"
     ]
    }
   ],
   "source": [
    "print(rawdata1[:, :, 0].value)\n",
    "print(sum(rawdata1[:, :, 0].value))\n",
    "print(sum(sum(rawdata1[:, :, 0].value)))"
   ]
  },
  {
   "cell_type": "code",
   "execution_count": 75,
   "metadata": {},
   "outputs": [
    {
     "name": "stdout",
     "output_type": "stream",
     "text": [
      "345636.0\n",
      "34625.60319016112\n",
      "6.3968098388795624\n",
      "16032.262482308486\n"
     ]
    }
   ],
   "source": [
    "print(sum(sum((rawdata1[:, :, 0].value)**2)))\n",
    "print(sum(sum(rawdata2[:, :, 0].value)))\n",
    "print(sum(sum(rawdata1[:, :, 0].value))-sum(sum(rawdata2[:, :, 0].value)))\n",
    "print(sum(sum((rawdata1[:, :, 0].value-rawdata2[:, :, 0].value)**2)))"
   ]
  }
 ],
 "metadata": {
  "interpreter": {
   "hash": "47201ad2db74b497c2a47bf8b4ce78611e11fdc607819fd2b10794897f7ef7ab"
  },
  "kernelspec": {
   "display_name": "Python 3.8.1 32-bit",
   "language": "python",
   "name": "python3"
  },
  "language_info": {
   "codemirror_mode": {
    "name": "ipython",
    "version": 3
   },
   "file_extension": ".py",
   "mimetype": "text/x-python",
   "name": "python",
   "nbconvert_exporter": "python",
   "pygments_lexer": "ipython3",
   "version": "3.8.1"
  },
  "orig_nbformat": 4
 },
 "nbformat": 4,
 "nbformat_minor": 2
}
