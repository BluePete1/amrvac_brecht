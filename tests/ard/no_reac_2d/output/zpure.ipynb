{
 "cells": [
  {
   "cell_type": "code",
   "execution_count": 4,
   "metadata": {},
   "outputs": [
    {
     "name": "stderr",
     "output_type": "stream",
     "text": [
      "C:\\Users\\gebruiker\\AppData\\Local\\Programs\\Python\\Python38-32\\lib\\site-packages\\yt\\sample_data\\api.py:138: UserWarning: Storage directory from yt config doesn't exist (currently set to '\\does\\not\\exist'). Current working directory will be used instead.\n",
      "  warn(\n"
     ]
    },
    {
     "ename": "FileNotFoundError",
     "evalue": "No such file or directory: 'pure_adv_00100.dat'.\n(Also tried 'c:\\Users\\gebruiker\\codes\\amrvac\\tests\\ard\\no_reac_2d\\output\\pure_adv_00100.dat').",
     "output_type": "error",
     "traceback": [
      "\u001b[1;31m---------------------------------------------------------------------------\u001b[0m",
      "\u001b[1;31mFileNotFoundError\u001b[0m                         Traceback (most recent call last)",
      "\u001b[1;32m<ipython-input-4-89e77b86a702>\u001b[0m in \u001b[0;36m<module>\u001b[1;34m\u001b[0m\n\u001b[0;32m      2\u001b[0m \u001b[1;33m\u001b[0m\u001b[0m\n\u001b[0;32m      3\u001b[0m \u001b[0mn\u001b[0m \u001b[1;33m=\u001b[0m \u001b[1;34m\"100\"\u001b[0m\u001b[1;33m\u001b[0m\u001b[1;33m\u001b[0m\u001b[0m\n\u001b[1;32m----> 4\u001b[1;33m \u001b[0mds1\u001b[0m \u001b[1;33m=\u001b[0m \u001b[0myt\u001b[0m\u001b[1;33m.\u001b[0m\u001b[0mload\u001b[0m\u001b[1;33m(\u001b[0m\u001b[1;34m\"pure_adv_00\"\u001b[0m\u001b[1;33m+\u001b[0m \u001b[0mn\u001b[0m \u001b[1;33m+\u001b[0m\u001b[1;34m\".dat\"\u001b[0m\u001b[1;33m,\u001b[0m \u001b[0munit_system\u001b[0m\u001b[1;33m=\u001b[0m\u001b[1;34m\"code\"\u001b[0m\u001b[1;33m)\u001b[0m\u001b[1;33m\u001b[0m\u001b[1;33m\u001b[0m\u001b[0m\n\u001b[0m\u001b[0;32m      5\u001b[0m \u001b[0mds2\u001b[0m \u001b[1;33m=\u001b[0m \u001b[0myt\u001b[0m\u001b[1;33m.\u001b[0m\u001b[0mload\u001b[0m\u001b[1;33m(\u001b[0m\u001b[1;34m\"pure_adv2_00\"\u001b[0m \u001b[1;33m+\u001b[0m \u001b[0mn\u001b[0m \u001b[1;33m+\u001b[0m \u001b[1;34m\".dat\"\u001b[0m\u001b[1;33m,\u001b[0m \u001b[0munit_system\u001b[0m\u001b[1;33m=\u001b[0m\u001b[1;34m\"code\"\u001b[0m\u001b[1;33m)\u001b[0m\u001b[1;33m\u001b[0m\u001b[1;33m\u001b[0m\u001b[0m\n\u001b[0;32m      6\u001b[0m \u001b[1;33m\u001b[0m\u001b[0m\n",
      "\u001b[1;32m~\\AppData\\Local\\Programs\\Python\\Python38-32\\lib\\site-packages\\yt\\loaders.py\u001b[0m in \u001b[0;36mload\u001b[1;34m(fn, *args, **kwargs)\u001b[0m\n\u001b[0;32m     80\u001b[0m     \u001b[1;31m# either in the current dir or yt.config.ytcfg['data_dir_directory']\u001b[0m\u001b[1;33m\u001b[0m\u001b[1;33m\u001b[0m\u001b[1;33m\u001b[0m\u001b[0m\n\u001b[0;32m     81\u001b[0m     \u001b[1;32mif\u001b[0m \u001b[1;32mnot\u001b[0m \u001b[0mfn\u001b[0m\u001b[1;33m.\u001b[0m\u001b[0mstartswith\u001b[0m\u001b[1;33m(\u001b[0m\u001b[1;34m\"http\"\u001b[0m\u001b[1;33m)\u001b[0m\u001b[1;33m:\u001b[0m\u001b[1;33m\u001b[0m\u001b[1;33m\u001b[0m\u001b[0m\n\u001b[1;32m---> 82\u001b[1;33m         \u001b[0mfn\u001b[0m \u001b[1;33m=\u001b[0m \u001b[0mstr\u001b[0m\u001b[1;33m(\u001b[0m\u001b[0mlookup_on_disk_data\u001b[0m\u001b[1;33m(\u001b[0m\u001b[0mfn\u001b[0m\u001b[1;33m)\u001b[0m\u001b[1;33m)\u001b[0m\u001b[1;33m\u001b[0m\u001b[1;33m\u001b[0m\u001b[0m\n\u001b[0m\u001b[0;32m     83\u001b[0m \u001b[1;33m\u001b[0m\u001b[0m\n\u001b[0;32m     84\u001b[0m     \u001b[0mcandidates\u001b[0m \u001b[1;33m=\u001b[0m \u001b[1;33m[\u001b[0m\u001b[1;33m]\u001b[0m\u001b[1;33m\u001b[0m\u001b[1;33m\u001b[0m\u001b[0m\n",
      "\u001b[1;32m~\\AppData\\Local\\Programs\\Python\\Python38-32\\lib\\site-packages\\yt\\sample_data\\api.py\u001b[0m in \u001b[0;36mlookup_on_disk_data\u001b[1;34m(fn)\u001b[0m\n\u001b[0;32m    170\u001b[0m     \u001b[1;32mif\u001b[0m \u001b[1;32mnot\u001b[0m \u001b[0malt_path\u001b[0m\u001b[1;33m.\u001b[0m\u001b[0mexists\u001b[0m\u001b[1;33m(\u001b[0m\u001b[1;33m)\u001b[0m\u001b[1;33m:\u001b[0m\u001b[1;33m\u001b[0m\u001b[1;33m\u001b[0m\u001b[0m\n\u001b[0;32m    171\u001b[0m         \u001b[0merr_msg\u001b[0m \u001b[1;33m+=\u001b[0m \u001b[1;34mf\"\\n(Also tried '{alt_path}').\"\u001b[0m\u001b[1;33m\u001b[0m\u001b[1;33m\u001b[0m\u001b[0m\n\u001b[1;32m--> 172\u001b[1;33m         \u001b[1;32mraise\u001b[0m \u001b[0mFileNotFoundError\u001b[0m\u001b[1;33m(\u001b[0m\u001b[0merr_msg\u001b[0m\u001b[1;33m)\u001b[0m\u001b[1;33m\u001b[0m\u001b[1;33m\u001b[0m\u001b[0m\n\u001b[0m\u001b[0;32m    173\u001b[0m \u001b[1;33m\u001b[0m\u001b[0m\n\u001b[0;32m    174\u001b[0m     \u001b[1;32mreturn\u001b[0m \u001b[0malt_path\u001b[0m\u001b[1;33m\u001b[0m\u001b[1;33m\u001b[0m\u001b[0m\n",
      "\u001b[1;31mFileNotFoundError\u001b[0m: No such file or directory: 'pure_adv_00100.dat'.\n(Also tried 'c:\\Users\\gebruiker\\codes\\amrvac\\tests\\ard\\no_reac_2d\\output\\pure_adv_00100.dat')."
     ]
    }
   ],
   "source": [
    "import yt\n",
    "\n",
    "n = \"100\"\n",
    "ds1 = yt.load(\"pure_adv_0\"+ n +\".dat\", unit_system=\"code\")\n",
    "ds2 = yt.load(\"pure_adv2_0\" + n + \".dat\", unit_system=\"code\")\n",
    "\n",
    "p1=yt.plot_2d(ds1,\"u\")\n",
    "p2=yt.plot_2d(ds2,\"u\")\n",
    "#p1.annotate_cell_edges()\n",
    "#p2.annotate_cell_edges()\n",
    "p1.annotate_grids()\n",
    "p2.annotate_grids()\n",
    "p1.set_xlabel(\"x\")\n",
    "p1.set_ylabel(\"y\")\n",
    "p2.set_xlabel(\"x\")\n",
    "p2.set_ylabel(\"y\")\n",
    "p1.show()\n",
    "p2.show()\n",
    "\n",
    "#p1.save(\"GSD\" + n + \".png\")\n",
    "#p2.save(\"GSAD\" + n + \".png\")"
   ]
  }
 ],
 "metadata": {
  "interpreter": {
   "hash": "16ec15e88898685a11af8b053476d26503d29858ce01d0136831694ed9ca24fd"
  },
  "kernelspec": {
   "display_name": "Python 3.8.1 32-bit",
   "language": "python",
   "name": "python3"
  },
  "language_info": {
   "codemirror_mode": {
    "name": "ipython",
    "version": 3
   },
   "file_extension": ".py",
   "mimetype": "text/x-python",
   "name": "python",
   "nbconvert_exporter": "python",
   "pygments_lexer": "ipython3",
   "version": "3.8.1"
  },
  "orig_nbformat": 4
 },
 "nbformat": 4,
 "nbformat_minor": 2
}
